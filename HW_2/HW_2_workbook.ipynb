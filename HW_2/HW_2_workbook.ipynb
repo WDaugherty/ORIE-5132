{
 "cells": [
  {
   "attachments": {},
   "cell_type": "markdown",
   "metadata": {},
   "source": [
    "## Imports\n"
   ]
  },
  {
   "cell_type": "code",
   "execution_count": 167,
   "metadata": {},
   "outputs": [],
   "source": [
    "#Imports for plotting and data manipulation\n",
    "import pandas as pd\n",
    "import numpy as np\n",
    "import matplotlib.pyplot as plt\n",
    "import os\n",
    "import warnings\n",
    "\n",
    "#Hides annoying warning messages\n",
    "warnings.filterwarnings('ignore')\n",
    "\n",
    "#IMports for machine learning/problem 2\n",
    "import sklearn.linear_model as sk"
   ]
  },
  {
   "attachments": {},
   "cell_type": "markdown",
   "metadata": {},
   "source": [
    "## Question 1: Network Revenue Management\n",
    "\n",
    "An airline company offers 8 different itineraries presented in the table below. There are only four flight legs: Bos-Chi, NYC-Chi, Chi-SF, Chi-LA\n",
    "and each itinerary is using one or two of these flight legs. There is one aircraft per leg and all planes have 200 seats. The table presents the demand for each itinerary for two fare classes: the low fare (Q-class) and high fare (Y-class)."
   ]
  },
  {
   "attachments": {},
   "cell_type": "markdown",
   "metadata": {},
   "source": [
    "### 1\n",
    "\n",
    "We would like to determine the optimal way to allocate the seats of each leg. Write an\n",
    "optimization problem that maximizes the total revenue. Solve the optimization problem\n",
    "using a solver (e.g. Gurobi, OR tools, etc) and report the optimal revenue."
   ]
  },
  {
   "cell_type": "code",
   "execution_count": 126,
   "metadata": {},
   "outputs": [
    {
     "name": "stdout",
     "output_type": "stream",
     "text": [
      "Gurobi Optimizer version 9.5.2 build v9.5.2rc0 (mac64[rosetta2])\n",
      "Thread count: 8 physical cores, 8 logical processors, using up to 8 threads\n",
      "Optimize a model with 20 rows, 16 columns and 40 nonzeros\n",
      "Model fingerprint: 0x2e114f57\n",
      "Coefficient statistics:\n",
      "  Matrix range     [1e+00, 1e+00]\n",
      "  Objective range  [2e+02, 6e+02]\n",
      "  Bounds range     [0e+00, 0e+00]\n",
      "  RHS range        [1e+01, 2e+02]\n",
      "Presolve removed 16 rows and 0 columns\n",
      "Presolve time: 0.00s\n",
      "Presolved: 4 rows, 16 columns, 24 nonzeros\n",
      "\n",
      "Iteration    Objective       Primal Inf.    Dual Inf.      Time\n",
      "       0    2.2725000e+05   5.062500e+01   0.000000e+00      0s\n",
      "       6    1.8228000e+05   0.000000e+00   0.000000e+00      0s\n",
      "\n",
      "Solved in 6 iterations and 0.01 seconds (0.00 work units)\n",
      "Optimal objective  1.822800000e+05\n",
      "\n",
      "Optimal Objective: 182280.0\n",
      "\n",
      "Optimal Solution:\n",
      "x0 25.0\n",
      "x1 20.0\n",
      "x2 25.0\n",
      "x3 40.0\n",
      "x4 65.0\n",
      "x5 25.0\n",
      "x6 19.0\n",
      "x7 16.0\n",
      "x8 44.0\n",
      "x9 50.0\n",
      "x10 36.0\n",
      "x11 35.0\n",
      "x12 21.0\n",
      "x13 20.0\n",
      "x14 25.0\n",
      "x15 14.0\n",
      "\n",
      "Optimal Dual Solution:\n",
      "c0 160.0\n",
      "c1 250.0\n",
      "c2 160.0\n",
      "c3 200.0\n",
      "d0 40.0\n",
      "d1 70.0\n",
      "d2 0.0\n",
      "d3 100.0\n",
      "d4 40.0\n",
      "d5 130.0\n",
      "d6 0.0\n",
      "d7 40.0\n",
      "d8 0.0\n",
      "d9 140.0\n",
      "d10 0.0\n",
      "d11 100.0\n",
      "d12 40.0\n",
      "d13 70.0\n",
      "d14 50.0\n",
      "d15 100.0\n"
     ]
    }
   ],
   "source": [
    "#Runs the optimizer.py file\n",
    "%run optimizer.py"
   ]
  },
  {
   "attachments": {},
   "cell_type": "markdown",
   "metadata": {},
   "source": [
    "Therefor the optimal value is 182280"
   ]
  },
  {
   "attachments": {},
   "cell_type": "markdown",
   "metadata": {},
   "source": [
    "### 2\n",
    "\n",
    "If you can add one seat on one leg, which leg would it be?"
   ]
  },
  {
   "cell_type": "code",
   "execution_count": 149,
   "metadata": {},
   "outputs": [
    {
     "name": "stdout",
     "output_type": "stream",
     "text": [
      "c0 160.0\n",
      "c1 250.0\n",
      "c2 160.0\n",
      "c3 200.0\n",
      "d0 40.0\n",
      "d1 70.0\n",
      "d2 0.0\n",
      "d3 100.0\n",
      "d4 40.0\n",
      "d5 130.0\n",
      "d6 0.0\n",
      "d7 40.0\n",
      "d8 0.0\n",
      "d9 140.0\n",
      "d10 0.0\n",
      "d11 100.0\n",
      "d12 40.0\n",
      "d13 70.0\n",
      "d14 50.0\n",
      "d15 100.0\n"
     ]
    }
   ],
   "source": [
    "def LastNlines(fname, N=20):\n",
    "    try:\n",
    "        with open(fname) as file:\n",
    "            # loop to iterate over last n lines and print them\n",
    "            for line in (file.readlines()[-N:]):\n",
    "                print(line, end='')\n",
    "    except FileNotFoundError:\n",
    "        print('File not found')\n",
    "\n",
    "fname = 'duals.txt'\n",
    "LastNlines(fname)"
   ]
  },
  {
   "attachments": {},
   "cell_type": "markdown",
   "metadata": {},
   "source": [
    "To find this we look at the constraints and see that c1 is 250 and so there is the most oppurtunity for increased profit between NYC-CHI "
   ]
  },
  {
   "attachments": {},
   "cell_type": "markdown",
   "metadata": {},
   "source": [
    "## Question 2: Pricing using a linear demand function\n",
    "\n",
    "For this question, we use the data set in Demand.xlsx. Suppose the demand function is linear: d(p) = a −bp, a, b > 0"
   ]
  },
  {
   "attachments": {},
   "cell_type": "markdown",
   "metadata": {},
   "source": [
    "### 1\n",
    "\n",
    "Use the data in Demand.xlsx to estimate a, b using linear regression."
   ]
  },
  {
   "cell_type": "code",
   "execution_count": 166,
   "metadata": {},
   "outputs": [
    {
     "name": "stdout",
     "output_type": "stream",
     "text": [
      "a is 395.32, b is 1.98\n"
     ]
    }
   ],
   "source": [
    "#Read in the data\n",
    "df_prob= pd.read_excel('/Users/wdaugherty/Cornell_Tech_ORIE/ORIE-5132/HW_2/data/Demand.xlsx') \n",
    "\n",
    "#Defines the model \n",
    "model= sk.LinearRegression().fit(np.array(df_prob['price']).reshape((-1,1)),np.array(df_prob['Demand']))\n",
    "\n",
    "#Prints out the answers for both a and b\n",
    "print('a is %.2f, b is %.2f'%(model.intercept_,-model.coef_[0])) \n"
   ]
  },
  {
   "attachments": {},
   "cell_type": "markdown",
   "metadata": {},
   "source": [
    "### 2 \n",
    "Find the optimal price p<sup>∗</sup> that maximizes the expected revenue."
   ]
  },
  {
   "cell_type": "code",
   "execution_count": 164,
   "metadata": {},
   "outputs": [
    {
     "name": "stdout",
     "output_type": "stream",
     "text": [
      "Revenue optimizing price= $99.84\n"
     ]
    }
   ],
   "source": [
    "#Finds the optimal price\n",
    "print('Revenue optimizing price= $%.2f' %(model.intercept_/(2*(-model.coef_[0]))))"
   ]
  },
  {
   "attachments": {},
   "cell_type": "markdown",
   "metadata": {},
   "source": [
    "## Question 3: Empirical Willingness-to-pay distribution\n",
    "\n",
    "In the file InSample.xlsx, you are given data {(p1, y1), . . . , (pN , yN )}, where pi is the price offered for a product and yi is the indicator\n",
    "function of whether the product was sold at price pi. Suppose the willingness of paying this product is a random variable W ∼ cdf F (·), here cdf refers to the cumulative density function of W .\n",
    "\n",
    "\n"
   ]
  },
  {
   "attachments": {},
   "cell_type": "markdown",
   "metadata": {},
   "source": [
    "### 1\n",
    "Use the data in InSample.xlsx to estimate the cdf F (·). Note F is a stair-wise function in this case. Draw a rough sketch to depict the function."
   ]
  },
  {
   "cell_type": "code",
   "execution_count": 111,
   "metadata": {},
   "outputs": [],
   "source": [
    "import matplotlib.pyplot as plt\n",
    "import pandas as pd\n",
    "\n",
    "def calculate_wtp(df, p):\n",
    "    \"\"\"Willingness to pay (WTP)\n",
    "\n",
    "    Parameters:\n",
    "        df (DataFrame): Dataframe containing the data\n",
    "        p (float): Price\n",
    "    \n",
    "    Returns:\n",
    "        float: WTP\n",
    "    \"\"\"\n",
    "    # Define buy and no buy variables\n",
    "     # Calculate the number of buyers and non-buyers\n",
    "    buyers = df.loc[(df['p_i'] >= p) & (df['y_i'] == 1)].shape[0]\n",
    "    non_buyers = df.loc[(df['p_i'] <= p) & (df['y_i'] == 0)].shape[0]\n",
    "\n",
    "    # Calculate the WTP\n",
    "    return 1 - (buyers / (non_buyers + buyers))\n",
    "\n",
    "\n",
    "def plot_wtp(df):\n",
    "    \"\"\"Plot WTP curve\n",
    "\n",
    "    Parameters:\n",
    "        df (DataFrame): Dataframe containing the data\n",
    "    \n",
    "    Returns:\n",
    "        None\n",
    "    \"\"\"\n",
    "    lsx = []\n",
    "    lsy = []\n",
    "    for i in range(max(df['p_i'] + 1)):\n",
    "        lsx.append(i)\n",
    "        lsy.append(calculate_wtp(df, i))\n",
    "\n",
    "    # Plot the results\n",
    "    plt.step(lsx, lsy)\n",
    "    plt.xlabel('p_i')\n",
    "    plt.ylabel('F(p_i)')\n",
    "    plt.title('Estimated CDF')\n",
    "    plt.show()\n"
   ]
  },
  {
   "cell_type": "code",
   "execution_count": 110,
   "metadata": {},
   "outputs": [
    {
     "data": {
      "image/png": "[encoded data removed]",
      "text/plain": [
       "<Figure size 640x480 with 1 Axes>"
      ]
     },
     "metadata": {},
     "output_type": "display_data"
    }
   ],
   "source": [
    "#loads in the data\n",
    "df_in = pd.read_excel('/Users/wdaugherty/Cornell_Tech_ORIE/ORIE-5132/HW_2/data/InSample.xlsx')\n",
    "\n",
    "#Calls the plot_wtp function function \n",
    "plot_wtp(df_in)"
   ]
  },
  {
   "attachments": {},
   "cell_type": "markdown",
   "metadata": {},
   "source": [
    "### 2\n",
    "\n",
    "Find the optimal price p∗that maximizes the expected revenue. Suppose W1, . . . , WN are the\n",
    "willingness-to-pay data points in InSample.xlsx. Then expected revenue for any price p can\n",
    "be expressed as <br>\n",
    "\n",
    "<br> where 1(·) is an indicator function that evaluates to 1 if the condition is true and 0 otherwise."
   ]
  },
  {
   "cell_type": "code",
   "execution_count": 150,
   "metadata": {},
   "outputs": [],
   "source": [
    "def calculate_optimal_p(df):\n",
    "    \"\"\"\n",
    "    Calculates the optimal value of p using the expected revenue formula\n",
    "    \n",
    "    Parameters:\n",
    "    df (pandas.DataFrame): a dataframe containing columns 'p' and 'y'\n",
    "    \n",
    "    Returns:\n",
    "    float: the optimal value of p\n",
    "    \"\"\"\n",
    "    \n",
    "    # Calculate the empirical distribution function of the data\n",
    "    x = np.sort(df['p_i'].values)\n",
    "    y = np.arange(1, len(x) + 1) / len(x)\n",
    "    cdf = pd.Series(y, index=x)\n",
    "    \n",
    "    # Calculate the expected revenue for each value of p\n",
    "    rev = x * (1 - cdf)\n",
    "    \n",
    "    # Find the value of p that maximizes expected revenue\n",
    "    optimal_p = x[np.argmax(rev)]\n",
    "    \n",
    "    # Plot the expected revenue curve\n",
    "    plt.plot(x, rev)\n",
    "    plt.axvline(optimal_p, color='red')\n",
    "    plt.xlabel('p')\n",
    "    plt.ylabel('Expected Revenue')\n",
    "    plt.title('Expected Revenue Curve')\n",
    "    plt.show()\n",
    "    \n",
    "    return optimal_p\n"
   ]
  },
  {
   "cell_type": "code",
   "execution_count": 151,
   "metadata": {},
   "outputs": [
    {
     "data": {
      "image/png": "[encoded data removed]",
      "text/plain": [
       "<Figure size 640x480 with 1 Axes>"
      ]
     },
     "metadata": {},
     "output_type": "display_data"
    },
    {
     "data": {
      "text/plain": [
       "55"
      ]
     },
     "execution_count": 151,
     "metadata": {},
     "output_type": "execute_result"
    }
   ],
   "source": [
    "#Calls the calculate_optimal_p function\n",
    "calculate_optimal_p(df_in)"
   ]
  },
  {
   "attachments": {},
   "cell_type": "markdown",
   "metadata": {},
   "source": [
    "### 3 \n",
    "\n",
    "The file OutOfSample.xlsx contains willingness-to-pay data points. Each data point represents\n",
    "the willingness-to-pay of a certain customer. Suppose p<sup>∗</sup>is the optimal price computed in\n",
    "the previous question. Compute the revenue obtained by p<sup>∗</sup>if the actual demand is given by\n",
    "data in OutOfSample.xlsx."
   ]
  },
  {
   "cell_type": "code",
   "execution_count": 122,
   "metadata": {},
   "outputs": [
    {
     "name": "stdout",
     "output_type": "stream",
     "text": [
      "The revenue obtained by using the optimal price p* is: 1045\n"
     ]
    }
   ],
   "source": [
    "#Loads in the data \n",
    "df_out = pd.read_excel('/Users/wdaugherty/Cornell_Tech_ORIE/ORIE-5132/HW_2/data/OutOfSample.xlsx', header=0, names=['WTP'])\n",
    "\n",
    "#Finds the optimal revenue\n",
    "def revenue_optimal_p(df, optimal_p):\n",
    "    \"\"\"Compute the revenue obtained by using the optimal price p*\n",
    "\n",
    "    Parameters:\n",
    "        df (DataFrame): Dataframe containing the data\n",
    "        optimal_p (float): Optimal price\n",
    "    \n",
    "    Returns:\n",
    "        float: Revenue\n",
    "    \"\"\"\n",
    "    # Compute the revenue obtained by using the optimal price p*\n",
    "    revenue = (df['WTP'] >= optimal_p).sum() * optimal_p\n",
    "    \n",
    "    return print(f\"The revenue obtained by using the optimal price p* is: {revenue}\")\n",
    "\n",
    "revenue_optimal_p(df_out,55)"
   ]
  }
 ],
 "metadata": {
  "kernelspec": {
   "display_name": "base",
   "language": "python",
   "name": "python3"
  },
  "language_info": {
   "codemirror_mode": {
    "name": "ipython",
    "version": 3
   },
   "file_extension": ".py",
   "mimetype": "text/x-python",
   "name": "python",
   "nbconvert_exporter": "python",
   "pygments_lexer": "ipython3",
   "version": "3.9.12"
  },
  "orig_nbformat": 4,
  "vscode": {
   "interpreter": {
    "hash": "a2d1937eaf42a33f6bad7128f9b80658bbb1685d32bc9da03c4702cc46b61d5d"
   }
  }
 },
 "nbformat": 4,
 "nbformat_minor": 2
}
