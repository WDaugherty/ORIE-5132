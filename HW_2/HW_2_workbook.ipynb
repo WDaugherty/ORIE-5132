{
 "cells": [
  {
   "attachments": {},
   "cell_type": "markdown",
   "metadata": {},
   "source": [
    "## Imports\n"
   ]
  },
  {
   "cell_type": "code",
   "execution_count": 39,
   "metadata": {},
   "outputs": [],
   "source": [
    "#Imports for plotting and data manipulation\n",
    "import pandas as pd\n",
    "import numpy as np\n",
    "import matplotlib.pyplot as plt\n",
    "\n",
    "#IMports for machine learning/problem 2\n",
    "import sklearn.linear_model as sk"
   ]
  },
  {
   "attachments": {},
   "cell_type": "markdown",
   "metadata": {},
   "source": [
    "## Question 1: Network Revenue Management\n",
    "\n",
    "An airline company offers 8 different itineraries presented in the table below. There are only four flight legs: Bos-Chi, NYC-Chi, Chi-SF, Chi-LA\n",
    "and each itinerary is using one or two of these flight legs. There is one aircraft per leg and all planes have 200 seats. The table presents the demand for each itinerary for two fare classes: the low fare (Q-class) and high fare (Y-class)."
   ]
  },
  {
   "attachments": {},
   "cell_type": "markdown",
   "metadata": {},
   "source": [
    "### 1\n",
    "\n",
    "We would like to determine the optimal way to allocate the seats of each leg. Write an\n",
    "optimization problem that maximizes the total revenue. Solve the optimization problem\n",
    "using a solver (e.g. Gurobi, OR tools, etc) and report the optimal revenue."
   ]
  },
  {
   "cell_type": "code",
   "execution_count": 31,
   "metadata": {},
   "outputs": [
    {
     "name": "stdout",
     "output_type": "stream",
     "text": [
      "Set parameter Username\n",
      "Academic license - for non-commercial use only - expires 2023-10-06\n",
      "Gurobi Optimizer version 9.5.2 build v9.5.2rc0 (mac64[rosetta2])\n",
      "Thread count: 8 physical cores, 8 logical processors, using up to 8 threads\n",
      "Optimize a model with 10 rows, 8 columns and 16 nonzeros\n",
      "Model fingerprint: 0xec806433\n",
      "Coefficient statistics:\n",
      "  Matrix range     [1e+00, 1e+00]\n",
      "  Objective range  [3e+02, 6e+02]\n",
      "  Bounds range     [0e+00, 0e+00]\n",
      "  RHS range        [3e+01, 1e+02]\n",
      "Presolve removed 8 rows and 2 columns\n",
      "Presolve time: 0.01s\n",
      "Presolved: 2 rows, 6 columns, 8 nonzeros\n",
      "\n",
      "Iteration    Objective       Primal Inf.    Dual Inf.      Time\n",
      "       0    1.0650000e+05   2.375000e+01   0.000000e+00      0s\n",
      "       1    7.1750000e+04   0.000000e+00   0.000000e+00      0s\n",
      "\n",
      "Solved in 1 iterations and 0.01 seconds (0.00 work units)\n",
      "Optimal objective  7.175000000e+04\n",
      "\n",
      "Optimal Objective: 71750.0\n",
      "\n",
      "Optimal Solution:\n",
      "x0 30.0\n",
      "x1 50.0\n",
      "x2 20.0\n",
      "x3 0.0\n",
      "x4 50.0\n",
      "x5 30.0\n",
      "x6 0.0\n",
      "x7 0.0\n",
      "\n",
      "Optimal Dual Solution:\n",
      "d0 100.0\n",
      "d1 25.0\n",
      "d2 0.0\n",
      "d3 0.0\n",
      "d4 100.0\n",
      "d5 0.0\n",
      "d6 300.0\n",
      "d7 300.0\n",
      "c0 325.0\n",
      "c1 300.0\n"
     ]
    }
   ],
   "source": [
    "#Runs the optimizer.py file\n",
    "%run optimizer.py"
   ]
  },
  {
   "attachments": {},
   "cell_type": "markdown",
   "metadata": {},
   "source": [
    "### 2\n",
    "\n",
    "If you can add one seat on one leg, which leg would it be?"
   ]
  },
  {
   "cell_type": "code",
   "execution_count": 49,
   "metadata": {},
   "outputs": [
    {
     "name": "stdout",
     "output_type": "stream",
     "text": [
      "Gurobi Optimizer version 9.5.2 build v9.5.2rc0 (mac64[rosetta2])\n",
      "Thread count: 8 physical cores, 8 logical processors, using up to 8 threads\n",
      "Optimize a model with 10 rows, 8 columns and 16 nonzeros\n",
      "Model fingerprint: 0xec806433\n",
      "Coefficient statistics:\n",
      "  Matrix range     [1e+00, 1e+00]\n",
      "  Objective range  [3e+02, 6e+02]\n",
      "  Bounds range     [0e+00, 0e+00]\n",
      "  RHS range        [3e+01, 1e+02]\n",
      "Presolve removed 8 rows and 2 columns\n",
      "Presolve time: 0.00s\n",
      "Presolved: 2 rows, 6 columns, 8 nonzeros\n",
      "\n",
      "Iteration    Objective       Primal Inf.    Dual Inf.      Time\n",
      "       0    1.0650000e+05   2.375000e+01   0.000000e+00      0s\n",
      "       1    7.1750000e+04   0.000000e+00   0.000000e+00      0s\n",
      "\n",
      "Solved in 1 iterations and 0.01 seconds (0.00 work units)\n",
      "Optimal objective  7.175000000e+04\n",
      "\n",
      "Optimal Objective: 71750.0\n",
      "\n",
      "Optimal Solution:\n",
      "x0 30.0\n",
      "x1 50.0\n",
      "x2 20.0\n",
      "x3 0.0\n",
      "x4 50.0\n",
      "x5 30.0\n",
      "x6 0.0\n",
      "x7 0.0\n",
      "\n",
      "Optimal Dual Solution:\n",
      "d0 100.0\n",
      "d1 25.0\n",
      "d2 0.0\n",
      "d3 0.0\n",
      "d4 100.0\n",
      "d5 0.0\n",
      "d6 300.0\n",
      "d7 300.0\n",
      "c0 325.0\n",
      "c1 300.0\n"
     ]
    }
   ],
   "source": [
    "#Looks at the dual variables from the results of the optimizer.py file  \n",
    "%run optimizer.py"
   ]
  },
  {
   "attachments": {},
   "cell_type": "markdown",
   "metadata": {},
   "source": [
    "## Question 2: Pricing using a linear demand function\n",
    "\n",
    "For this question, we use the data set in Demand.xlsx. Suppose the demand function is linear: d(p) = a −bp, a, b > 0"
   ]
  },
  {
   "attachments": {},
   "cell_type": "markdown",
   "metadata": {},
   "source": [
    "### 1\n",
    "\n",
    "Use the data in Demand.xlsx to estimate a, b using linear regression."
   ]
  },
  {
   "cell_type": "code",
   "execution_count": 118,
   "metadata": {},
   "outputs": [
    {
     "name": "stdout",
     "output_type": "stream",
     "text": [
      "a is 395.32, b is 1.98\n"
     ]
    },
    {
     "name": "stderr",
     "output_type": "stream",
     "text": [
      "/Users/wdaugherty/opt/anaconda3/lib/python3.9/site-packages/openpyxl/worksheet/_read_only.py:79: UserWarning: Unknown extension is not supported and will be removed\n",
      "  for idx, row in parser.parse():\n"
     ]
    }
   ],
   "source": [
    "#Read in the data\n",
    "df_prob= pd.read_excel('/Users/wdaugherty/Cornell_Tech_ORIE/ORIE-5132/HW_2/data/Demand.xlsx') \n",
    "\n",
    "#Defines the model \n",
    "model= sk.LinearRegression().fit(np.array(df_prob['price']).reshape((-1,1)),np.array(df_prob['Demand']))\n",
    "\n",
    "#Prints out the answers for both a and b\n",
    "print('a is %.2f, b is %.2f'%(model.intercept_,-model.coef_[0])) \n"
   ]
  },
  {
   "attachments": {},
   "cell_type": "markdown",
   "metadata": {},
   "source": [
    "### 2 \n",
    "Find the optimal price p<sup>∗</sup> that maximizes the expected revenue."
   ]
  },
  {
   "cell_type": "code",
   "execution_count": 121,
   "metadata": {},
   "outputs": [
    {
     "name": "stdout",
     "output_type": "stream",
     "text": [
      "Revenue optimizing price= $99.84\n"
     ]
    }
   ],
   "source": [
    "#Finds the optimal price\n",
    "print('Revenue optimizing price= $%.2f' %(a/-(2*b)[0]))"
   ]
  },
  {
   "attachments": {},
   "cell_type": "markdown",
   "metadata": {},
   "source": [
    "## Question 3: Empirical Willingness-to-pay distribution\n",
    "\n",
    "In the file InSample.xlsx, you are given data {(p1, y1), . . . , (pN , yN )}, where pi is the price offered for a product and yi is the indicator\n",
    "function of whether the product was sold at price pi. Suppose the willingness of paying this product is a random variable W ∼ cdf F (·), here cdf refers to the cumulative density function of W .\n",
    "\n",
    "\n"
   ]
  },
  {
   "attachments": {},
   "cell_type": "markdown",
   "metadata": {},
   "source": [
    "### 1\n",
    "Use the data in InSample.xlsx to estimate the cdf F (·). Note F is a stair-wise function in this case. Draw a rough sketch to depict the function."
   ]
  },
  {
   "cell_type": "code",
   "execution_count": 111,
   "metadata": {},
   "outputs": [],
   "source": [
    "import matplotlib.pyplot as plt\n",
    "import pandas as pd\n",
    "\n",
    "def calculate_wtp(df, p):\n",
    "    \"\"\"Willingness to pay (WTP)\n",
    "\n",
    "    Parameters:\n",
    "        df (DataFrame): Dataframe containing the data\n",
    "        p (float): Price\n",
    "    \n",
    "    Returns:\n",
    "        float: WTP\n",
    "    \"\"\"\n",
    "    # Define buy and no buy variables\n",
    "     # Calculate the number of buyers and non-buyers\n",
    "    buyers = df.loc[(df['p_i'] >= p) & (df['y_i'] == 1)].shape[0]\n",
    "    non_buyers = df.loc[(df['p_i'] <= p) & (df['y_i'] == 0)].shape[0]\n",
    "\n",
    "    # Calculate the WTP\n",
    "    return 1 - (buyers / (non_buyers + buyers))\n",
    "\n",
    "\n",
    "def plot_wtp(df):\n",
    "    \"\"\"Plot WTP curve\n",
    "\n",
    "    Parameters:\n",
    "        df (DataFrame): Dataframe containing the data\n",
    "    \n",
    "    Returns:\n",
    "        None\n",
    "    \"\"\"\n",
    "    lsx = []\n",
    "    lsy = []\n",
    "    for i in range(max(df['p_i'] + 1)):\n",
    "        lsx.append(i)\n",
    "        lsy.append(calculate_wtp(df, i))\n",
    "\n",
    "    # Plot the results\n",
    "    plt.step(lsx, lsy)\n",
    "    plt.xlabel('p_i')\n",
    "    plt.ylabel('F(p_i)')\n",
    "    plt.title('Estimated CDF')\n",
    "    plt.show()\n"
   ]
  },
  {
   "cell_type": "code",
   "execution_count": 110,
   "metadata": {},
   "outputs": [
    {
     "data": {
      "image/png": "[encoded data removed]",
      "text/plain": [
       "<Figure size 640x480 with 1 Axes>"
      ]
     },
     "metadata": {},
     "output_type": "display_data"
    }
   ],
   "source": [
    "#loads in the data\n",
    "df_in = pd.read_excel('/Users/wdaugherty/Cornell_Tech_ORIE/ORIE-5132/HW_2/data/InSample.xlsx')\n",
    "\n",
    "#Calls the plot_wtp function function \n",
    "plot_wtp(df_in)"
   ]
  },
  {
   "attachments": {},
   "cell_type": "markdown",
   "metadata": {},
   "source": [
    "### 2\n",
    "\n",
    "Find the optimal price p∗that maximizes the expected revenue. Suppose W1, . . . , WN are the\n",
    "willingness-to-pay data points in InSample.xlsx. Then expected revenue for any price p can\n",
    "be expressed as <br>\n",
    "\n",
    "<br> where 1(·) is an indicator function that evaluates to 1 if the condition is true and 0 otherwise."
   ]
  },
  {
   "cell_type": "code",
   "execution_count": 98,
   "metadata": {},
   "outputs": [],
   "source": [
    "def calculate_optimal_p(df):\n",
    "    \"\"\"\n",
    "    Calculates the optimal value of p using the expected revenue formula\n",
    "    \n",
    "    Parameters:\n",
    "    df (pandas.DataFrame): a dataframe containing columns 'p' and 'y'\n",
    "    \n",
    "    Returns:\n",
    "    float: the optimal value of p\n",
    "    \"\"\"\n",
    "    \n",
    "    # Calculate the empirical distribution function of the data\n",
    "    x = np.sort(df['p_i'].values)\n",
    "    y = np.arange(1, len(x) + 1) / len(x)\n",
    "    cdf = pd.Series(y, index=x)\n",
    "    \n",
    "    # Calculate the expected revenue for each value of p\n",
    "    rev = x * (1 - cdf)\n",
    "    \n",
    "    # Find the value of p that maximizes expected revenue\n",
    "    optimal_p = x[np.argmax(rev)]\n",
    "    \n",
    "    # Plot the expected revenue curve\n",
    "    plt.plot(x, rev)\n",
    "    plt.scatter(optimal_p, np.max(rev), color='red')\n",
    "    plt.xlabel('p')\n",
    "    plt.ylabel('Expected Revenue')\n",
    "    plt.title('Expected Revenue Curve')\n",
    "    plt.show()\n",
    "    \n",
    "    return optimal_p\n"
   ]
  },
  {
   "cell_type": "code",
   "execution_count": 99,
   "metadata": {},
   "outputs": [
    {
     "data": {
      "image/png": "[encoded data removed]",
      "text/plain": [
       "<Figure size 640x480 with 1 Axes>"
      ]
     },
     "metadata": {},
     "output_type": "display_data"
    },
    {
     "data": {
      "text/plain": [
       "55"
      ]
     },
     "execution_count": 99,
     "metadata": {},
     "output_type": "execute_result"
    }
   ],
   "source": [
    "#Calls the calculate_optimal_p function\n",
    "calculate_optimal_p(df)"
   ]
  },
  {
   "attachments": {},
   "cell_type": "markdown",
   "metadata": {},
   "source": [
    "### 3 \n",
    "\n",
    "The file OutOfSample.xlsx contains willingness-to-pay data points. Each data point represents\n",
    "the willingness-to-pay of a certain customer. Suppose p<sup>∗</sup>is the optimal price computed in\n",
    "the previous question. Compute the revenue obtained by p<sup>∗</sup>if the actual demand is given by\n",
    "data in OutOfSample.xlsx."
   ]
  },
  {
   "cell_type": "code",
   "execution_count": 122,
   "metadata": {},
   "outputs": [
    {
     "name": "stdout",
     "output_type": "stream",
     "text": [
      "The revenue obtained by using the optimal price p* is: 1045\n"
     ]
    }
   ],
   "source": [
    "\n",
    "df_out = pd.read_excel('/Users/wdaugherty/Cornell_Tech_ORIE/ORIE-5132/HW_2/data/OutOfSample.xlsx', header=0, names=['WTP'])\n",
    "\n",
    "def revenue_optimal_p(df, optimal_p):\n",
    "    \"\"\"Compute the revenue obtained by using the optimal price p*\n",
    "\n",
    "    Parameters:\n",
    "        df (DataFrame): Dataframe containing the data\n",
    "        optimal_p (float): Optimal price\n",
    "    \n",
    "    Returns:\n",
    "        float: Revenue\n",
    "    \"\"\"\n",
    "    # Compute the revenue obtained by using the optimal price p*\n",
    "    revenue = (df['WTP'] >= optimal_p).sum() * optimal_p\n",
    "    \n",
    "    return print(f\"The revenue obtained by using the optimal price p* is: {revenue}\")\n",
    "\n",
    "revenue_optimal_p(df_out,55)"
   ]
  }
 ],
 "metadata": {
  "kernelspec": {
   "display_name": "base",
   "language": "python",
   "name": "python3"
  },
  "language_info": {
   "codemirror_mode": {
    "name": "ipython",
    "version": 3
   },
   "file_extension": ".py",
   "mimetype": "text/x-python",
   "name": "python",
   "nbconvert_exporter": "python",
   "pygments_lexer": "ipython3",
   "version": "3.9.12"
  },
  "orig_nbformat": 4,
  "vscode": {
   "interpreter": {
    "hash": "a2d1937eaf42a33f6bad7128f9b80658bbb1685d32bc9da03c4702cc46b61d5d"
   }
  }
 },
 "nbformat": 4,
 "nbformat_minor": 2
}
